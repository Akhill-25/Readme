{
 "cells": [
  {
   "cell_type": "markdown",
   "id": "8e380f03-36e6-4156-8016-93e2d75b010b",
   "metadata": {},
   "source": [
    "# Data Science Tools and Ecosystem"
   ]
  },
  {
   "cell_type": "markdown",
   "id": "b9df035a-cdad-49aa-b0be-c3b89ce3b997",
   "metadata": {},
   "source": [
    "## In this notebook, Data Science Tools and Ecosystem are summarized."
   ]
  },
  {
   "cell_type": "markdown",
   "id": "ddcd8e49-4180-4490-a805-419c808196a5",
   "metadata": {},
   "source": [
    "## Some of the popular languages that Data Scientists use are:\n",
    "### 1. Python\n",
    "### 2. SQL\n",
    "### 3. R\n"
   ]
  },
  {
   "cell_type": "markdown",
   "id": "e86ac656-e14f-4a90-b712-e01a81c3f77f",
   "metadata": {},
   "source": [
    "## Some of the commonly used libraries used by Data Scientists include:\n",
    "### 1. Numpy\n",
    "### 2. Panda\n",
    "### 3. Matplotlib"
   ]
  },
  {
   "cell_type": "markdown",
   "id": "88d40aab-06cd-4c8f-8fe5-9ae69512ddca",
   "metadata": {},
   "source": [
    "|Data Science Tools|\n",
    "|-------------|\n",
    "|Python|\n",
    "|Jupyter|\n",
    "|R|"
   ]
  },
  {
   "cell_type": "markdown",
   "id": "0ccd8f42-3678-4107-8b1c-ba61e5289118",
   "metadata": {},
   "source": [
    "### Below are a few examples of evaluating arithmetic expressions in Python"
   ]
  },
  {
   "cell_type": "code",
   "execution_count": 20,
   "id": "ffd7ebcf-fd5e-49f3-891d-27795b465f87",
   "metadata": {},
   "outputs": [
    {
     "data": {
      "text/plain": [
       "17"
      ]
     },
     "execution_count": 20,
     "metadata": {},
     "output_type": "execute_result"
    }
   ],
   "source": [
    "### This a simple arithmetic expression to mutiply then add integers\n",
    "(3*4)+5"
   ]
  },
  {
   "cell_type": "code",
   "execution_count": 28,
   "id": "4fbf3ab1-aa87-47b4-b2b2-6fa5cd46f8a6",
   "metadata": {},
   "outputs": [
    {
     "name": "stdout",
     "output_type": "stream",
     "text": [
      "3.3333333333333335\n"
     ]
    }
   ],
   "source": [
    "## This will convert 200 minutes to hours by diving by 60\n",
    "Total_min=200\n",
    "Total_hours=Total_min/60\n",
    "print(Total_hours)"
   ]
  },
  {
   "cell_type": "markdown",
   "id": "ac38c527-565b-40a2-a676-57c4ee9780a3",
   "metadata": {},
   "source": [
    "### Objectives: List popular languages for Data Science\n",
    "- Python\n",
    "- R\n",
    "- SQL"
   ]
  },
  {
   "cell_type": "markdown",
   "id": "82a2f62f-70f5-40a5-8d65-b253dbe47b72",
   "metadata": {},
   "source": [
    "## Author\n",
    "### Akhil"
   ]
  }
 ],
 "metadata": {
  "kernelspec": {
   "display_name": "Python 3 (ipykernel)",
   "language": "python",
   "name": "python3"
  },
  "language_info": {
   "codemirror_mode": {
    "name": "ipython",
    "version": 3
   },
   "file_extension": ".py",
   "mimetype": "text/x-python",
   "name": "python",
   "nbconvert_exporter": "python",
   "pygments_lexer": "ipython3",
   "version": "3.12.4"
  }
 },
 "nbformat": 4,
 "nbformat_minor": 5
}
